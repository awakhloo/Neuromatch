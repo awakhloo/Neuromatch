{
 "cells": [
  {
   "cell_type": "code",
   "execution_count": 1,
   "metadata": {},
   "outputs": [],
   "source": [
    "import numpy as np\n",
    "import pandas as pd\n",
    "import pipeline\n",
    "import matplotlib.pyplot as plt\n",
    "#from pydmd import DMD\n",
    "from jupyterthemes import jtplot ; jtplot.style()\n",
    "from sklearn.decomposition import PCA\n",
    "from sklearn.preprocessing import StandardScaler\n",
    "from os import chdir ; chdir('/Users/albertwakhloo/Desktop/theoretical_neuroscience/neuromatch/steinmetz full/allData/all dat')\n",
    "from glob import glob\n",
    "#stim_avg = pd.read_csv('stimulus average for basal ganglia mice', index_col = 0) "
   ]
  },
  {
   "cell_type": "code",
   "execution_count": 2,
   "metadata": {},
   "outputs": [
    {
     "data": {
      "text/html": [
       "<div>\n",
       "<style scoped>\n",
       "    .dataframe tbody tr th:only-of-type {\n",
       "        vertical-align: middle;\n",
       "    }\n",
       "\n",
       "    .dataframe tbody tr th {\n",
       "        vertical-align: top;\n",
       "    }\n",
       "\n",
       "    .dataframe thead th {\n",
       "        text-align: right;\n",
       "    }\n",
       "</style>\n",
       "<table border=\"1\" class=\"dataframe\">\n",
       "  <thead>\n",
       "    <tr style=\"text-align: right;\">\n",
       "      <th></th>\n",
       "      <th>Origin</th>\n",
       "      <th>abbrev</th>\n",
       "      <th>n_relevant_probes</th>\n",
       "    </tr>\n",
       "  </thead>\n",
       "  <tbody>\n",
       "    <tr>\n",
       "      <th>0</th>\n",
       "      <td>Cori_2016-12-14</td>\n",
       "      <td>Cori_2016-12-14</td>\n",
       "      <td>1.0</td>\n",
       "    </tr>\n",
       "    <tr>\n",
       "      <th>1</th>\n",
       "      <td>Moniz_2017-05-16</td>\n",
       "      <td>Moniz_2017-05-16</td>\n",
       "      <td>0.0</td>\n",
       "    </tr>\n",
       "    <tr>\n",
       "      <th>2</th>\n",
       "      <td>Muller_2017-01-09</td>\n",
       "      <td>Muller_2017-01-09</td>\n",
       "      <td>0.0</td>\n",
       "    </tr>\n",
       "    <tr>\n",
       "      <th>3</th>\n",
       "      <td>Lederberg_2017-12-08</td>\n",
       "      <td>Lederberg_2017-12-08</td>\n",
       "      <td>1.0</td>\n",
       "    </tr>\n",
       "    <tr>\n",
       "      <th>4</th>\n",
       "      <td>Richards_2017-11-02</td>\n",
       "      <td>Richards_2017-11-02</td>\n",
       "      <td>0.0</td>\n",
       "    </tr>\n",
       "  </tbody>\n",
       "</table>\n",
       "</div>"
      ],
      "text/plain": [
       "                 Origin                abbrev  n_relevant_probes\n",
       "0       Cori_2016-12-14       Cori_2016-12-14                1.0\n",
       "1      Moniz_2017-05-16      Moniz_2017-05-16                0.0\n",
       "2     Muller_2017-01-09     Muller_2017-01-09                0.0\n",
       "3  Lederberg_2017-12-08  Lederberg_2017-12-08                1.0\n",
       "4   Richards_2017-11-02   Richards_2017-11-02                0.0"
      ]
     },
     "execution_count": 2,
     "metadata": {},
     "output_type": "execute_result"
    }
   ],
   "source": [
    "f = glob('*')\n",
    "basal_ganglia = np.array([\"ACB\", \"CP\", \"GPe\", \"LS\", \"LSc\", \"LSr\", \"MS\", \"OT\", \"SNr\", \"SI\"])\n",
    "paths = pipeline.filt(f, regions_to_pull = basal_ganglia)\n",
    "paths.head(5)"
   ]
  },
  {
   "cell_type": "code",
   "execution_count": 3,
   "metadata": {},
   "outputs": [
    {
     "name": "stdout",
     "output_type": "stream",
     "text": [
      "Getting spike time data ...\n",
      "Hench_2017-06-18\n",
      "Mapping neurons from Hench_2017-06-18 to channels ... \n",
      "Mapping channels to brain areas ...\n",
      "Getting behavioral data ...\n",
      "~~~ OOOoOOOOooOoOOOOOOOOOOoooOooOOOOOOo ~~~\n",
      "Forming groups ... \n",
      "Forming spike trains ...\n",
      "Forming stimulus series ...\n",
      "Creating data-frame ...\n",
      "~~~ the power of christ literally compels you ~~~\n",
      "Getting spike time data ...\n",
      "Richards_2017-11-01\n",
      "Mapping neurons from Richards_2017-11-01 to channels ... \n",
      "Mapping channels to brain areas ...\n",
      "Getting behavioral data ...\n",
      "~~~ OOOoOOOOooOoOOOOOOOOOOoooOooOOOOOOo ~~~\n",
      "Forming groups ... \n",
      "Forming spike trains ...\n",
      "Forming stimulus series ...\n",
      "Creating data-frame ...\n",
      "~~~ the power of christ literally compels you ~~~\n",
      "Getting spike time data ...\n",
      "Lederberg_2017-12-11\n",
      "Mapping neurons from Lederberg_2017-12-11 to channels ... \n",
      "Mapping channels to brain areas ...\n",
      "Getting behavioral data ...\n",
      "~~~ OOOoOOOOooOoOOOOOOOOOOoooOooOOOOOOo ~~~\n",
      "Forming groups ... \n",
      "Forming spike trains ...\n",
      "Forming stimulus series ...\n",
      "Creating data-frame ...\n",
      "~~~ the power of christ literally compels you ~~~\n",
      "Getting spike time data ...\n",
      "Tatum_2017-12-09\n",
      "Mapping neurons from Tatum_2017-12-09 to channels ... \n",
      "Mapping channels to brain areas ...\n",
      "Getting behavioral data ...\n",
      "~~~ OOOoOOOOooOoOOOOOOOOOOoooOooOOOOOOo ~~~\n",
      "Forming groups ... \n",
      "Forming spike trains ...\n",
      "Forming stimulus series ...\n",
      "Creating data-frame ...\n",
      "~~~ the power of christ literally compels you ~~~\n"
     ]
    }
   ],
   "source": [
    "subset = paths[paths.n_relevant_probes >= 2].Origin.values\n",
    "spikes, stim, neur = pipeline.pipeline(subset)"
   ]
  },
  {
   "cell_type": "code",
   "execution_count": 4,
   "metadata": {},
   "outputs": [],
   "source": [
    "pipeline.extract_trial_stim_avg?"
   ]
  },
  {
   "cell_type": "code",
   "execution_count": 7,
   "metadata": {},
   "outputs": [
    {
     "name": "stdout",
     "output_type": "stream",
     "text": [
      "Generating mouse 0 spike rate data ...\n",
      "Generating mouse 1 spike rate data ...\n",
      "Generating mouse 2 spike rate data ...\n",
      "Generating mouse 3 spike rate data ...\n",
      "~~~ young success ~~~~\n"
     ]
    }
   ],
   "source": [
    "stim_avg = pipeline.extract_trial_stim_avg(neur, stim, basal_ganglia)"
   ]
  },
  {
   "cell_type": "code",
   "execution_count": 9,
   "metadata": {},
   "outputs": [
    {
     "data": {
      "text/plain": [
       "array([0, 1, 2, 3])"
      ]
     },
     "execution_count": 9,
     "metadata": {},
     "output_type": "execute_result"
    }
   ],
   "source": [
    "stim_avg.maus.unique()"
   ]
  },
  {
   "cell_type": "markdown",
   "metadata": {},
   "source": [
    "drop neuron columns which weren't measured and make a df out of each mouse"
   ]
  },
  {
   "cell_type": "code",
   "execution_count": 10,
   "metadata": {},
   "outputs": [
    {
     "data": {
      "text/plain": [
       "(156, 3)"
      ]
     },
     "execution_count": 10,
     "metadata": {},
     "output_type": "execute_result"
    }
   ],
   "source": [
    "stim_avg_mice = []\n",
    "for mouse in stim_avg.maus.unique() : \n",
    "    m = stim_avg[stim_avg.maus == mouse].dropna(axis = 1).drop('maus', axis = 1).values\n",
    "    stim_avg_mice.append(m)\n",
    "stim_avg_mice[0].shape"
   ]
  },
  {
   "cell_type": "markdown",
   "metadata": {},
   "source": [
    "standardize"
   ]
  },
  {
   "cell_type": "code",
   "execution_count": 11,
   "metadata": {},
   "outputs": [],
   "source": [
    "standard_stim_avg_mice = []\n",
    "for mouse in stim_avg_mice : \n",
    "    mouse = StandardScaler().fit_transform(mouse)  \n",
    "    standard_stim_avg_mice.append(mouse) "
   ]
  },
  {
   "cell_type": "code",
   "execution_count": 12,
   "metadata": {},
   "outputs": [],
   "source": [
    "pca_mice = []\n",
    "explained_var_mice = []\n",
    "loadings_mice = []\n",
    "pca = PCA()\n",
    "for maus in standard_stim_avg_mice : \n",
    "    reduced = pca.fit(maus) \n",
    "    explained_var_mice.append(reduced.explained_variance_ratio_) \n",
    "    pca_mice.append(pca.fit_transform(maus))\n",
    "    loadings_mice.append(reduced.components_)"
   ]
  },
  {
   "cell_type": "code",
   "execution_count": 13,
   "metadata": {},
   "outputs": [
    {
     "data": {
      "text/plain": [
       "4"
      ]
     },
     "execution_count": 13,
     "metadata": {},
     "output_type": "execute_result"
    }
   ],
   "source": [
    "len(standard_stim_avg_mice)"
   ]
  },
  {
   "cell_type": "code",
   "execution_count": 39,
   "metadata": {},
   "outputs": [
    {
     "data": {
      "image/png": "[encoded data removed]",
      "text/plain": [
       "<Figure size 504x1080 with 4 Axes>"
      ]
     },
     "metadata": {},
     "output_type": "display_data"
    }
   ],
   "source": [
    "labels = {} \n",
    "for maus in neur.maus.unique() : \n",
    "    labels[maus] = neur.loc[(neur.maus == maus) & (neur.area.isin(basal_ganglia))].area.unique()\n",
    "    \n",
    "_, ax = plt.subplots(4, 1, figsize = (7, 15))\n",
    "for i, loading in enumerate(loadings_mice) : \n",
    "    bars = labels[i]\n",
    "    ax[i].bar(bars, loading[0])"
   ]
  },
  {
   "cell_type": "code",
   "execution_count": 37,
   "metadata": {},
   "outputs": [],
   "source": []
  },
  {
   "cell_type": "code",
   "execution_count": null,
   "metadata": {},
   "outputs": [],
   "source": []
  }
 ],
 "metadata": {
  "kernelspec": {
   "display_name": "Python 3",
   "language": "python",
   "name": "python3"
  },
  "language_info": {
   "codemirror_mode": {
    "name": "ipython",
    "version": 3
   },
   "file_extension": ".py",
   "mimetype": "text/x-python",
   "name": "python",
   "nbconvert_exporter": "python",
   "pygments_lexer": "ipython3",
   "version": "3.8.3"
  }
 },
 "nbformat": 4,
 "nbformat_minor": 4
}
