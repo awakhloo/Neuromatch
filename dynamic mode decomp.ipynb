{
 "cells": [
  {
   "cell_type": "code",
   "execution_count": 1,
   "metadata": {},
   "outputs": [],
   "source": [
    "import numpy as np\n",
    "import pandas as pd\n",
    "import pipeline\n",
    "import matplotlib.pyplot as plt\n",
    "from pydmd import DMD\n",
    "from jupyterthemes import jtplot ; jtplot.style()\n",
    "from os import chdir ; chdir('/Users/albertwakhloo/Desktop/theoretical_neuroscience/neuromatch/steinmetz full/allData/all dat')\n",
    "from glob import glob"
   ]
  },
  {
   "cell_type": "code",
   "execution_count": 2,
   "metadata": {},
   "outputs": [
    {
     "data": {
      "text/html": [
       "<div>\n",
       "<style scoped>\n",
       "    .dataframe tbody tr th:only-of-type {\n",
       "        vertical-align: middle;\n",
       "    }\n",
       "\n",
       "    .dataframe tbody tr th {\n",
       "        vertical-align: top;\n",
       "    }\n",
       "\n",
       "    .dataframe thead th {\n",
       "        text-align: right;\n",
       "    }\n",
       "</style>\n",
       "<table border=\"1\" class=\"dataframe\">\n",
       "  <thead>\n",
       "    <tr style=\"text-align: right;\">\n",
       "      <th></th>\n",
       "      <th>Origin</th>\n",
       "      <th>abbrev</th>\n",
       "      <th>n_relevant_probes</th>\n",
       "    </tr>\n",
       "  </thead>\n",
       "  <tbody>\n",
       "    <tr>\n",
       "      <th>0</th>\n",
       "      <td>Cori_2016-12-14</td>\n",
       "      <td>Cori_2016-12-14</td>\n",
       "      <td>1.0</td>\n",
       "    </tr>\n",
       "    <tr>\n",
       "      <th>1</th>\n",
       "      <td>Moniz_2017-05-16</td>\n",
       "      <td>Moniz_2017-05-16</td>\n",
       "      <td>0.0</td>\n",
       "    </tr>\n",
       "    <tr>\n",
       "      <th>2</th>\n",
       "      <td>Muller_2017-01-09</td>\n",
       "      <td>Muller_2017-01-09</td>\n",
       "      <td>0.0</td>\n",
       "    </tr>\n",
       "    <tr>\n",
       "      <th>3</th>\n",
       "      <td>Lederberg_2017-12-08</td>\n",
       "      <td>Lederberg_2017-12-08</td>\n",
       "      <td>1.0</td>\n",
       "    </tr>\n",
       "    <tr>\n",
       "      <th>4</th>\n",
       "      <td>Richards_2017-11-02</td>\n",
       "      <td>Richards_2017-11-02</td>\n",
       "      <td>0.0</td>\n",
       "    </tr>\n",
       "  </tbody>\n",
       "</table>\n",
       "</div>"
      ],
      "text/plain": [
       "                 Origin                abbrev  n_relevant_probes\n",
       "0       Cori_2016-12-14       Cori_2016-12-14                1.0\n",
       "1      Moniz_2017-05-16      Moniz_2017-05-16                0.0\n",
       "2     Muller_2017-01-09     Muller_2017-01-09                0.0\n",
       "3  Lederberg_2017-12-08  Lederberg_2017-12-08                1.0\n",
       "4   Richards_2017-11-02   Richards_2017-11-02                0.0"
      ]
     },
     "execution_count": 2,
     "metadata": {},
     "output_type": "execute_result"
    }
   ],
   "source": [
    "f = glob('*')\n",
    "basal_ganglia = np.array([\"ACB\", \"CP\", \"GPe\", \"LS\", \"LSc\", \"LSr\", \"MS\", \"OT\", \"SNr\", \"SI\"])\n",
    "paths = pipeline.filt(f, regions_to_pull = basal_ganglia)\n",
    "paths.head(5)"
   ]
  },
  {
   "cell_type": "code",
   "execution_count": 7,
   "metadata": {},
   "outputs": [
    {
     "name": "stdout",
     "output_type": "stream",
     "text": [
      "Getting spike time data ...\n",
      "Hench_2017-06-18\n",
      "Mapping neurons from Hench_2017-06-18 to channels ... \n",
      "Mapping channels to brain areas ...\n",
      "Getting behavioral data ...\n",
      "~~~ OOOoOOOOooOoOOOOOOOOOOoooOooOOOOOOo ~~~\n",
      "Forming groups ... \n",
      "Forming spike trains ...\n",
      "Forming stimulus series ...\n",
      "Creating data-frame ...\n",
      "~~~ the power of christ literally compels you ~~~\n",
      "Getting spike time data ...\n",
      "Richards_2017-11-01\n",
      "Mapping neurons from Richards_2017-11-01 to channels ... \n",
      "Mapping channels to brain areas ...\n",
      "Getting behavioral data ...\n",
      "~~~ OOOoOOOOooOoOOOOOOOOOOoooOooOOOOOOo ~~~\n",
      "Forming groups ... \n",
      "Forming spike trains ...\n",
      "Forming stimulus series ...\n",
      "Creating data-frame ...\n",
      "~~~ the power of christ literally compels you ~~~\n",
      "Getting spike time data ...\n",
      "Lederberg_2017-12-11\n",
      "Mapping neurons from Lederberg_2017-12-11 to channels ... \n",
      "Mapping channels to brain areas ...\n",
      "Getting behavioral data ...\n",
      "~~~ OOOoOOOOooOoOOOOOOOOOOoooOooOOOOOOo ~~~\n",
      "Forming groups ... \n",
      "Forming spike trains ...\n",
      "Forming stimulus series ...\n",
      "Creating data-frame ...\n",
      "~~~ the power of christ literally compels you ~~~\n",
      "Getting spike time data ...\n",
      "Tatum_2017-12-09\n",
      "Mapping neurons from Tatum_2017-12-09 to channels ... \n",
      "Mapping channels to brain areas ...\n",
      "Getting behavioral data ...\n",
      "~~~ OOOoOOOOooOoOOOOOOOOOOoooOooOOOOOOo ~~~\n",
      "Forming groups ... \n",
      "Forming spike trains ...\n",
      "Forming stimulus series ...\n",
      "Creating data-frame ...\n",
      "~~~ the power of christ literally compels you ~~~\n"
     ]
    }
   ],
   "source": [
    "subset = paths[paths.n_relevant_probes >= 2].Origin.values\n",
    "spikes, stim, neur = pipeline.pipeline(subset)"
   ]
  },
  {
   "cell_type": "markdown",
   "metadata": {},
   "source": [
    "drop neuron columns which weren't measured and make a df out of each mouse"
   ]
  },
  {
   "cell_type": "code",
   "execution_count": 12,
   "metadata": {},
   "outputs": [],
   "source": [
    "mice = [spikes[spikes.maus == mouse].dropna(axis = 1) for mouse in spikes.maus.unique()]\n",
    "mice_spikes = [mouse.iloc[:, -6] for mouse in mice] #you gotta start pulling out pure spikes mango... set this in pipeline soon"
   ]
  },
  {
   "cell_type": "code",
   "execution_count": 26,
   "metadata": {},
   "outputs": [],
   "source": [
    "dmd = DMD(svd_rank = 2)"
   ]
  },
  {
   "cell_type": "code",
   "execution_count": 37,
   "metadata": {},
   "outputs": [],
   "source": [
    "d1 = dmd.fit(mice_spikes[0].T)"
   ]
  },
  {
   "cell_type": "code",
   "execution_count": 44,
   "metadata": {},
   "outputs": [],
   "source": [
    "l = d1.reconstructed_data[0]"
   ]
  },
  {
   "cell_type": "code",
   "execution_count": 45,
   "metadata": {},
   "outputs": [
    {
     "data": {
      "text/plain": [
       "array([nan])"
      ]
     },
     "execution_count": 45,
     "metadata": {},
     "output_type": "execute_result"
    }
   ],
   "source": [
    "l[l!=0]"
   ]
  },
  {
   "cell_type": "code",
   "execution_count": 35,
   "metadata": {},
   "outputs": [],
   "source": [
    "m1 =mice_spikes[0]"
   ]
  },
  {
   "cell_type": "code",
   "execution_count": 49,
   "metadata": {},
   "outputs": [
    {
     "name": "stdout",
     "output_type": "stream",
     "text": [
      "Generating mouse 0 spike rate data ...\n",
      "Generating mouse 1 spike rate data ...\n",
      "Generating mouse 2 spike rate data ...\n",
      "Generating mouse 3 spike rate data ...\n",
      "~~~ young success ~~~~\n"
     ]
    }
   ],
   "source": [
    "stim_avg = pipeline.extract_trial_stim_avg(neur, stim, basal_ganglia)"
   ]
  },
  {
   "cell_type": "code",
   "execution_count": 50,
   "metadata": {},
   "outputs": [
    {
     "data": {
      "text/html": [
       "<div>\n",
       "<style scoped>\n",
       "    .dataframe tbody tr th:only-of-type {\n",
       "        vertical-align: middle;\n",
       "    }\n",
       "\n",
       "    .dataframe tbody tr th {\n",
       "        vertical-align: top;\n",
       "    }\n",
       "\n",
       "    .dataframe thead th {\n",
       "        text-align: right;\n",
       "    }\n",
       "</style>\n",
       "<table border=\"1\" class=\"dataframe\">\n",
       "  <thead>\n",
       "    <tr style=\"text-align: right;\">\n",
       "      <th></th>\n",
       "      <th>LSc</th>\n",
       "      <th>CP</th>\n",
       "      <th>LSr</th>\n",
       "      <th>maus</th>\n",
       "      <th>SNr</th>\n",
       "      <th>SI</th>\n",
       "      <th>ACB</th>\n",
       "      <th>OT</th>\n",
       "      <th>GPe</th>\n",
       "    </tr>\n",
       "  </thead>\n",
       "  <tbody>\n",
       "    <tr>\n",
       "      <th>0</th>\n",
       "      <td>2.633929</td>\n",
       "      <td>2.193764</td>\n",
       "      <td>3.6</td>\n",
       "      <td>0</td>\n",
       "      <td>NaN</td>\n",
       "      <td>NaN</td>\n",
       "      <td>NaN</td>\n",
       "      <td>NaN</td>\n",
       "      <td>NaN</td>\n",
       "    </tr>\n",
       "    <tr>\n",
       "      <th>1</th>\n",
       "      <td>1.875000</td>\n",
       "      <td>2.048998</td>\n",
       "      <td>2.0</td>\n",
       "      <td>0</td>\n",
       "      <td>NaN</td>\n",
       "      <td>NaN</td>\n",
       "      <td>NaN</td>\n",
       "      <td>NaN</td>\n",
       "      <td>NaN</td>\n",
       "    </tr>\n",
       "    <tr>\n",
       "      <th>2</th>\n",
       "      <td>0.892857</td>\n",
       "      <td>2.004454</td>\n",
       "      <td>3.2</td>\n",
       "      <td>0</td>\n",
       "      <td>NaN</td>\n",
       "      <td>NaN</td>\n",
       "      <td>NaN</td>\n",
       "      <td>NaN</td>\n",
       "      <td>NaN</td>\n",
       "    </tr>\n",
       "    <tr>\n",
       "      <th>3</th>\n",
       "      <td>2.008929</td>\n",
       "      <td>2.416481</td>\n",
       "      <td>3.8</td>\n",
       "      <td>0</td>\n",
       "      <td>NaN</td>\n",
       "      <td>NaN</td>\n",
       "      <td>NaN</td>\n",
       "      <td>NaN</td>\n",
       "      <td>NaN</td>\n",
       "    </tr>\n",
       "    <tr>\n",
       "      <th>4</th>\n",
       "      <td>1.383929</td>\n",
       "      <td>1.302895</td>\n",
       "      <td>2.4</td>\n",
       "      <td>0</td>\n",
       "      <td>NaN</td>\n",
       "      <td>NaN</td>\n",
       "      <td>NaN</td>\n",
       "      <td>NaN</td>\n",
       "      <td>NaN</td>\n",
       "    </tr>\n",
       "    <tr>\n",
       "      <th>...</th>\n",
       "      <td>...</td>\n",
       "      <td>...</td>\n",
       "      <td>...</td>\n",
       "      <td>...</td>\n",
       "      <td>...</td>\n",
       "      <td>...</td>\n",
       "      <td>...</td>\n",
       "      <td>...</td>\n",
       "      <td>...</td>\n",
       "    </tr>\n",
       "    <tr>\n",
       "      <th>524</th>\n",
       "      <td>1.160714</td>\n",
       "      <td>1.648107</td>\n",
       "      <td>1.6</td>\n",
       "      <td>0</td>\n",
       "      <td>NaN</td>\n",
       "      <td>NaN</td>\n",
       "      <td>NaN</td>\n",
       "      <td>NaN</td>\n",
       "      <td>NaN</td>\n",
       "    </tr>\n",
       "    <tr>\n",
       "      <th>525</th>\n",
       "      <td>1.785714</td>\n",
       "      <td>1.046771</td>\n",
       "      <td>1.6</td>\n",
       "      <td>0</td>\n",
       "      <td>NaN</td>\n",
       "      <td>NaN</td>\n",
       "      <td>NaN</td>\n",
       "      <td>NaN</td>\n",
       "      <td>NaN</td>\n",
       "    </tr>\n",
       "    <tr>\n",
       "      <th>526</th>\n",
       "      <td>0.401786</td>\n",
       "      <td>1.291759</td>\n",
       "      <td>0.6</td>\n",
       "      <td>0</td>\n",
       "      <td>NaN</td>\n",
       "      <td>NaN</td>\n",
       "      <td>NaN</td>\n",
       "      <td>NaN</td>\n",
       "      <td>NaN</td>\n",
       "    </tr>\n",
       "    <tr>\n",
       "      <th>527</th>\n",
       "      <td>1.026786</td>\n",
       "      <td>2.060134</td>\n",
       "      <td>1.8</td>\n",
       "      <td>0</td>\n",
       "      <td>NaN</td>\n",
       "      <td>NaN</td>\n",
       "      <td>NaN</td>\n",
       "      <td>NaN</td>\n",
       "      <td>NaN</td>\n",
       "    </tr>\n",
       "    <tr>\n",
       "      <th>528</th>\n",
       "      <td>1.339286</td>\n",
       "      <td>2.048998</td>\n",
       "      <td>0.6</td>\n",
       "      <td>0</td>\n",
       "      <td>NaN</td>\n",
       "      <td>NaN</td>\n",
       "      <td>NaN</td>\n",
       "      <td>NaN</td>\n",
       "      <td>NaN</td>\n",
       "    </tr>\n",
       "  </tbody>\n",
       "</table>\n",
       "<p>529 rows × 9 columns</p>\n",
       "</div>"
      ],
      "text/plain": [
       "          LSc        CP  LSr  maus  SNr  SI  ACB  OT  GPe\n",
       "0    2.633929  2.193764  3.6     0  NaN NaN  NaN NaN  NaN\n",
       "1    1.875000  2.048998  2.0     0  NaN NaN  NaN NaN  NaN\n",
       "2    0.892857  2.004454  3.2     0  NaN NaN  NaN NaN  NaN\n",
       "3    2.008929  2.416481  3.8     0  NaN NaN  NaN NaN  NaN\n",
       "4    1.383929  1.302895  2.4     0  NaN NaN  NaN NaN  NaN\n",
       "..        ...       ...  ...   ...  ...  ..  ...  ..  ...\n",
       "524  1.160714  1.648107  1.6     0  NaN NaN  NaN NaN  NaN\n",
       "525  1.785714  1.046771  1.6     0  NaN NaN  NaN NaN  NaN\n",
       "526  0.401786  1.291759  0.6     0  NaN NaN  NaN NaN  NaN\n",
       "527  1.026786  2.060134  1.8     0  NaN NaN  NaN NaN  NaN\n",
       "528  1.339286  2.048998  0.6     0  NaN NaN  NaN NaN  NaN\n",
       "\n",
       "[529 rows x 9 columns]"
      ]
     },
     "execution_count": 50,
     "metadata": {},
     "output_type": "execute_result"
    }
   ],
   "source": [
    "stim_avg"
   ]
  },
  {
   "cell_type": "code",
   "execution_count": 94,
   "metadata": {},
   "outputs": [],
   "source": [
    "dmd = DMD(svd_rank = 1)\n",
    "maus_1 = stim_avg[stim_avg.maus == 0].dropna(axis = 1).drop('maus', axis = 1).values.T\n",
    "d = dmd.fit(maus_1)"
   ]
  },
  {
   "cell_type": "code",
   "execution_count": 95,
   "metadata": {},
   "outputs": [
    {
     "data": {
      "text/plain": [
       "(3, 529)"
      ]
     },
     "execution_count": 95,
     "metadata": {},
     "output_type": "execute_result"
    }
   ],
   "source": [
    "d.reconstructed_data.shape"
   ]
  },
  {
   "cell_type": "code",
   "execution_count": 99,
   "metadata": {},
   "outputs": [
    {
     "data": {
      "text/plain": [
       "array([[0.27144192, 0.11793966, 0.13501664],\n",
       "       [0.11793966, 0.43167977, 0.14374446],\n",
       "       [0.13501664, 0.14374446, 0.72194936]])"
      ]
     },
     "execution_count": 99,
     "metadata": {},
     "output_type": "execute_result"
    }
   ],
   "source": [
    "np.cov(maus_1)"
   ]
  },
  {
   "cell_type": "code",
   "execution_count": 86,
   "metadata": {},
   "outputs": [
    {
     "data": {
      "text/plain": [
       "array([[2.63392857, 2.19376392, 3.6       ],\n",
       "       [1.875     , 2.04899777, 2.        ],\n",
       "       [0.89285714, 2.00445434, 3.2       ],\n",
       "       ...,\n",
       "       [0.40178571, 1.29175947, 0.6       ],\n",
       "       [1.02678571, 2.06013363, 1.8       ],\n",
       "       [1.33928571, 2.04899777, 0.6       ]])"
      ]
     },
     "execution_count": 86,
     "metadata": {},
     "output_type": "execute_result"
    }
   ],
   "source": [
    "maus_1.values"
   ]
  },
  {
   "cell_type": "code",
   "execution_count": 101,
   "metadata": {},
   "outputs": [
    {
     "data": {
      "text/plain": [
       "(3, 529)"
      ]
     },
     "execution_count": 101,
     "metadata": {},
     "output_type": "execute_result"
    }
   ],
   "source": [
    "maus_1.shape"
   ]
  },
  {
   "cell_type": "code",
   "execution_count": null,
   "metadata": {},
   "outputs": [],
   "source": []
  }
 ],
 "metadata": {
  "kernelspec": {
   "display_name": "Python 3",
   "language": "python",
   "name": "python3"
  },
  "language_info": {
   "codemirror_mode": {
    "name": "ipython",
    "version": 3
   },
   "file_extension": ".py",
   "mimetype": "text/x-python",
   "name": "python",
   "nbconvert_exporter": "python",
   "pygments_lexer": "ipython3",
   "version": "3.8.3"
  }
 },
 "nbformat": 4,
 "nbformat_minor": 4
}
