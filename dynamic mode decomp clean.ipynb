{
 "cells": [
  {
   "cell_type": "code",
   "execution_count": 4,
   "metadata": {},
   "outputs": [],
   "source": [
    "import numpy as np\n",
    "import pandas as pd\n",
    "import pipeline\n",
    "import matplotlib.pyplot as plt\n",
    "from pydmd import DMD\n",
    "from jupyterthemes import jtplot ; jtplot.style()\n",
    "from sklearn.decomposition import PCA\n",
    "from sklearn.preprocessing import StandardScaler\n",
    "from os import chdir ; chdir('/Users/Alby/Documents/Neuromatch/')\n",
    "from glob import glob\n",
    "stim_avg = pd.read_csv('stimulus average for basal ganglia mice', index_col = 0) "
   ]
  },
  {
   "cell_type": "code",
   "execution_count": 2,
   "metadata": {},
   "outputs": [
    {
     "data": {
      "text/html": [
       "<div>\n",
       "<style scoped>\n",
       "    .dataframe tbody tr th:only-of-type {\n",
       "        vertical-align: middle;\n",
       "    }\n",
       "\n",
       "    .dataframe tbody tr th {\n",
       "        vertical-align: top;\n",
       "    }\n",
       "\n",
       "    .dataframe thead th {\n",
       "        text-align: right;\n",
       "    }\n",
       "</style>\n",
       "<table border=\"1\" class=\"dataframe\">\n",
       "  <thead>\n",
       "    <tr style=\"text-align: right;\">\n",
       "      <th></th>\n",
       "      <th>Origin</th>\n",
       "      <th>abbrev</th>\n",
       "      <th>n_relevant_probes</th>\n",
       "    </tr>\n",
       "  </thead>\n",
       "  <tbody>\n",
       "    <tr>\n",
       "      <th>0</th>\n",
       "      <td>Cori_2016-12-14</td>\n",
       "      <td>Cori_2016-12-14</td>\n",
       "      <td>1.0</td>\n",
       "    </tr>\n",
       "    <tr>\n",
       "      <th>1</th>\n",
       "      <td>Moniz_2017-05-16</td>\n",
       "      <td>Moniz_2017-05-16</td>\n",
       "      <td>0.0</td>\n",
       "    </tr>\n",
       "    <tr>\n",
       "      <th>2</th>\n",
       "      <td>Muller_2017-01-09</td>\n",
       "      <td>Muller_2017-01-09</td>\n",
       "      <td>0.0</td>\n",
       "    </tr>\n",
       "    <tr>\n",
       "      <th>3</th>\n",
       "      <td>Lederberg_2017-12-08</td>\n",
       "      <td>Lederberg_2017-12-08</td>\n",
       "      <td>1.0</td>\n",
       "    </tr>\n",
       "    <tr>\n",
       "      <th>4</th>\n",
       "      <td>Richards_2017-11-02</td>\n",
       "      <td>Richards_2017-11-02</td>\n",
       "      <td>0.0</td>\n",
       "    </tr>\n",
       "  </tbody>\n",
       "</table>\n",
       "</div>"
      ],
      "text/plain": [
       "                 Origin                abbrev  n_relevant_probes\n",
       "0       Cori_2016-12-14       Cori_2016-12-14                1.0\n",
       "1      Moniz_2017-05-16      Moniz_2017-05-16                0.0\n",
       "2     Muller_2017-01-09     Muller_2017-01-09                0.0\n",
       "3  Lederberg_2017-12-08  Lederberg_2017-12-08                1.0\n",
       "4   Richards_2017-11-02   Richards_2017-11-02                0.0"
      ]
     },
     "execution_count": 2,
     "metadata": {},
     "output_type": "execute_result"
    }
   ],
   "source": [
    "f = glob('*')\n",
    "basal_ganglia = np.array([\"ACB\", \"CP\", \"GPe\", \"LS\", \"LSc\", \"LSr\", \"MS\", \"OT\", \"SNr\", \"SI\"])\n",
    "paths = pipeline.filt(f, regions_to_pull = basal_ganglia)\n",
    "paths.head(5)"
   ]
  },
  {
   "cell_type": "code",
   "execution_count": 7,
   "metadata": {},
   "outputs": [
    {
     "name": "stdout",
     "output_type": "stream",
     "text": [
      "Getting spike time data ...\n",
      "Hench_2017-06-18\n",
      "Mapping neurons from Hench_2017-06-18 to channels ... \n",
      "Mapping channels to brain areas ...\n",
      "Getting behavioral data ...\n",
      "~~~ OOOoOOOOooOoOOOOOOOOOOoooOooOOOOOOo ~~~\n",
      "Forming groups ... \n",
      "Forming spike trains ...\n",
      "Forming stimulus series ...\n",
      "Creating data-frame ...\n",
      "~~~ the power of christ literally compels you ~~~\n",
      "Getting spike time data ...\n",
      "Richards_2017-11-01\n",
      "Mapping neurons from Richards_2017-11-01 to channels ... \n",
      "Mapping channels to brain areas ...\n",
      "Getting behavioral data ...\n",
      "~~~ OOOoOOOOooOoOOOOOOOOOOoooOooOOOOOOo ~~~\n",
      "Forming groups ... \n",
      "Forming spike trains ...\n",
      "Forming stimulus series ...\n",
      "Creating data-frame ...\n",
      "~~~ the power of christ literally compels you ~~~\n",
      "Getting spike time data ...\n",
      "Lederberg_2017-12-11\n",
      "Mapping neurons from Lederberg_2017-12-11 to channels ... \n",
      "Mapping channels to brain areas ...\n",
      "Getting behavioral data ...\n",
      "~~~ OOOoOOOOooOoOOOOOOOOOOoooOooOOOOOOo ~~~\n",
      "Forming groups ... \n",
      "Forming spike trains ...\n",
      "Forming stimulus series ...\n",
      "Creating data-frame ...\n",
      "~~~ the power of christ literally compels you ~~~\n",
      "Getting spike time data ...\n",
      "Tatum_2017-12-09\n",
      "Mapping neurons from Tatum_2017-12-09 to channels ... \n",
      "Mapping channels to brain areas ...\n",
      "Getting behavioral data ...\n",
      "~~~ OOOoOOOOooOoOOOOOOOOOOoooOooOOOOOOo ~~~\n",
      "Forming groups ... \n",
      "Forming spike trains ...\n",
      "Forming stimulus series ...\n",
      "Creating data-frame ...\n",
      "~~~ the power of christ literally compels you ~~~\n"
     ]
    }
   ],
   "source": [
    "subset = paths[paths.n_relevant_probes >= 2].Origin.values\n",
    "spikes, stim, neur = pipeline.pipeline(subset)"
   ]
  },
  {
   "cell_type": "code",
   "execution_count": null,
   "metadata": {},
   "outputs": [],
   "source": [
    "stim_avg = pipeline.extract_trial_stim_avg()"
   ]
  },
  {
   "cell_type": "markdown",
   "metadata": {},
   "source": [
    "drop neuron columns which weren't measured and make a df out of each mouse"
   ]
  },
  {
   "cell_type": "code",
   "execution_count": 16,
   "metadata": {},
   "outputs": [
    {
     "data": {
      "text/plain": [
       "(529, 3)"
      ]
     },
     "execution_count": 16,
     "metadata": {},
     "output_type": "execute_result"
    }
   ],
   "source": [
    "maus_1 = stim_avg[stim_avg.maus == 0].dropna(axis = 1).drop('maus', axis = 1).values\n",
    "maus_2 = stim_avg[stim_avg.maus == 1].dropna(axis = 1).drop('maus', axis = 1).values\n",
    "maus_3 = stim_avg[stim_avg.maus == 2].dropna(axis = 1).drop('maus', axis = 1).values\n",
    "maus_4 = stim_avg[stim_avg.maus == 3].dropna(axis = 1).drop('maus', axis = 1).values\n",
    "stim_avg_mice = [maus_1, maus_2, maus_3, maus_4]\n",
    "maus_1.shape"
   ]
  },
  {
   "cell_type": "code",
   "execution_count": 13,
   "metadata": {},
   "outputs": [
    {
     "data": {
      "text/html": [
       "<div>\n",
       "<style scoped>\n",
       "    .dataframe tbody tr th:only-of-type {\n",
       "        vertical-align: middle;\n",
       "    }\n",
       "\n",
       "    .dataframe tbody tr th {\n",
       "        vertical-align: top;\n",
       "    }\n",
       "\n",
       "    .dataframe thead th {\n",
       "        text-align: right;\n",
       "    }\n",
       "</style>\n",
       "<table border=\"1\" class=\"dataframe\">\n",
       "  <thead>\n",
       "    <tr style=\"text-align: right;\">\n",
       "      <th></th>\n",
       "      <th>LSc</th>\n",
       "      <th>CP</th>\n",
       "      <th>LSr</th>\n",
       "      <th>maus</th>\n",
       "      <th>SNr</th>\n",
       "      <th>SI</th>\n",
       "      <th>ACB</th>\n",
       "      <th>OT</th>\n",
       "      <th>GPe</th>\n",
       "    </tr>\n",
       "  </thead>\n",
       "  <tbody>\n",
       "    <tr>\n",
       "      <th>0</th>\n",
       "      <td>2.633929</td>\n",
       "      <td>2.193764</td>\n",
       "      <td>3.6</td>\n",
       "      <td>0</td>\n",
       "      <td>NaN</td>\n",
       "      <td>NaN</td>\n",
       "      <td>NaN</td>\n",
       "      <td>NaN</td>\n",
       "      <td>NaN</td>\n",
       "    </tr>\n",
       "    <tr>\n",
       "      <th>1</th>\n",
       "      <td>1.875000</td>\n",
       "      <td>2.048998</td>\n",
       "      <td>2.0</td>\n",
       "      <td>0</td>\n",
       "      <td>NaN</td>\n",
       "      <td>NaN</td>\n",
       "      <td>NaN</td>\n",
       "      <td>NaN</td>\n",
       "      <td>NaN</td>\n",
       "    </tr>\n",
       "    <tr>\n",
       "      <th>2</th>\n",
       "      <td>0.892857</td>\n",
       "      <td>2.004454</td>\n",
       "      <td>3.2</td>\n",
       "      <td>0</td>\n",
       "      <td>NaN</td>\n",
       "      <td>NaN</td>\n",
       "      <td>NaN</td>\n",
       "      <td>NaN</td>\n",
       "      <td>NaN</td>\n",
       "    </tr>\n",
       "    <tr>\n",
       "      <th>3</th>\n",
       "      <td>2.008929</td>\n",
       "      <td>2.416481</td>\n",
       "      <td>3.8</td>\n",
       "      <td>0</td>\n",
       "      <td>NaN</td>\n",
       "      <td>NaN</td>\n",
       "      <td>NaN</td>\n",
       "      <td>NaN</td>\n",
       "      <td>NaN</td>\n",
       "    </tr>\n",
       "    <tr>\n",
       "      <th>4</th>\n",
       "      <td>1.383929</td>\n",
       "      <td>1.302895</td>\n",
       "      <td>2.4</td>\n",
       "      <td>0</td>\n",
       "      <td>NaN</td>\n",
       "      <td>NaN</td>\n",
       "      <td>NaN</td>\n",
       "      <td>NaN</td>\n",
       "      <td>NaN</td>\n",
       "    </tr>\n",
       "    <tr>\n",
       "      <th>...</th>\n",
       "      <td>...</td>\n",
       "      <td>...</td>\n",
       "      <td>...</td>\n",
       "      <td>...</td>\n",
       "      <td>...</td>\n",
       "      <td>...</td>\n",
       "      <td>...</td>\n",
       "      <td>...</td>\n",
       "      <td>...</td>\n",
       "    </tr>\n",
       "    <tr>\n",
       "      <th>524</th>\n",
       "      <td>1.160714</td>\n",
       "      <td>1.648107</td>\n",
       "      <td>1.6</td>\n",
       "      <td>0</td>\n",
       "      <td>NaN</td>\n",
       "      <td>NaN</td>\n",
       "      <td>NaN</td>\n",
       "      <td>NaN</td>\n",
       "      <td>NaN</td>\n",
       "    </tr>\n",
       "    <tr>\n",
       "      <th>525</th>\n",
       "      <td>1.785714</td>\n",
       "      <td>1.046771</td>\n",
       "      <td>1.6</td>\n",
       "      <td>0</td>\n",
       "      <td>NaN</td>\n",
       "      <td>NaN</td>\n",
       "      <td>NaN</td>\n",
       "      <td>NaN</td>\n",
       "      <td>NaN</td>\n",
       "    </tr>\n",
       "    <tr>\n",
       "      <th>526</th>\n",
       "      <td>0.401786</td>\n",
       "      <td>1.291759</td>\n",
       "      <td>0.6</td>\n",
       "      <td>0</td>\n",
       "      <td>NaN</td>\n",
       "      <td>NaN</td>\n",
       "      <td>NaN</td>\n",
       "      <td>NaN</td>\n",
       "      <td>NaN</td>\n",
       "    </tr>\n",
       "    <tr>\n",
       "      <th>527</th>\n",
       "      <td>1.026786</td>\n",
       "      <td>2.060134</td>\n",
       "      <td>1.8</td>\n",
       "      <td>0</td>\n",
       "      <td>NaN</td>\n",
       "      <td>NaN</td>\n",
       "      <td>NaN</td>\n",
       "      <td>NaN</td>\n",
       "      <td>NaN</td>\n",
       "    </tr>\n",
       "    <tr>\n",
       "      <th>528</th>\n",
       "      <td>1.339286</td>\n",
       "      <td>2.048998</td>\n",
       "      <td>0.6</td>\n",
       "      <td>0</td>\n",
       "      <td>NaN</td>\n",
       "      <td>NaN</td>\n",
       "      <td>NaN</td>\n",
       "      <td>NaN</td>\n",
       "      <td>NaN</td>\n",
       "    </tr>\n",
       "  </tbody>\n",
       "</table>\n",
       "<p>529 rows × 9 columns</p>\n",
       "</div>"
      ],
      "text/plain": [
       "          LSc        CP  LSr  maus  SNr  SI  ACB  OT  GPe\n",
       "0    2.633929  2.193764  3.6     0  NaN NaN  NaN NaN  NaN\n",
       "1    1.875000  2.048998  2.0     0  NaN NaN  NaN NaN  NaN\n",
       "2    0.892857  2.004454  3.2     0  NaN NaN  NaN NaN  NaN\n",
       "3    2.008929  2.416481  3.8     0  NaN NaN  NaN NaN  NaN\n",
       "4    1.383929  1.302895  2.4     0  NaN NaN  NaN NaN  NaN\n",
       "..        ...       ...  ...   ...  ...  ..  ...  ..  ...\n",
       "524  1.160714  1.648107  1.6     0  NaN NaN  NaN NaN  NaN\n",
       "525  1.785714  1.046771  1.6     0  NaN NaN  NaN NaN  NaN\n",
       "526  0.401786  1.291759  0.6     0  NaN NaN  NaN NaN  NaN\n",
       "527  1.026786  2.060134  1.8     0  NaN NaN  NaN NaN  NaN\n",
       "528  1.339286  2.048998  0.6     0  NaN NaN  NaN NaN  NaN\n",
       "\n",
       "[529 rows x 9 columns]"
      ]
     },
     "execution_count": 13,
     "metadata": {},
     "output_type": "execute_result"
    }
   ],
   "source": [
    "stim_avg"
   ]
  },
  {
   "cell_type": "markdown",
   "metadata": {},
   "source": [
    "standardize"
   ]
  },
  {
   "cell_type": "code",
   "execution_count": null,
   "metadata": {},
   "outputs": [],
   "source": [
    "for mouse in stim_avg_mice : \n",
    "    mouse = StandardScaler().fit_transform(mouse)  \n",
    "    stim_avg_mice_standardized.append(mouse) "
   ]
  },
  {
   "cell_type": "code",
   "execution_count": 24,
   "metadata": {},
   "outputs": [],
   "source": [
    "pca = PCA(n_components = 3)\n",
    "maus_1_std = StandardScaler().fit_transform(maus_1)  \n",
    "pca_1 = pca.fit(maus_1_std) \n",
    "explained = pca_1.explained_variance_ratio_\n",
    "loadings = pca_1.components_\n",
    "transform = pca.fit_transform(maus_1_std) "
   ]
  },
  {
   "cell_type": "code",
   "execution_count": 25,
   "metadata": {},
   "outputs": [
    {
     "data": {
      "text/plain": [
       "array([[ 0.60443947,  0.57698651,  0.5493082 ],\n",
       "       [-0.16921468, -0.58080105,  0.79626411],\n",
       "       [ 0.77847243, -0.57424447, -0.25342449]])"
      ]
     },
     "execution_count": 25,
     "metadata": {},
     "output_type": "execute_result"
    }
   ],
   "source": [
    "loadings"
   ]
  },
  {
   "cell_type": "code",
   "execution_count": 82,
   "metadata": {},
   "outputs": [],
   "source": [
    "pca_mice = []\n",
    "explained_var_mice = []\n",
    "loadings_per_mouse = []\n",
    "pca = PCA()\n",
    "for maus in stim_avg_mice_standardized : \n",
    "    reduced = pca.fit(maus) \n",
    "    explained_var_mice.append(reduced.explained_variance_ratio_) \n",
    "    pca_mice.append(pca.fit_transform(maus))\n",
    "    loadings_per_mouse.append(reduced.components_)"
   ]
  },
  {
   "cell_type": "code",
   "execution_count": 75,
   "metadata": {},
   "outputs": [
    {
     "data": {
      "text/plain": [
       "array([0.58456932, 0.27358485, 0.14184582])"
      ]
     },
     "execution_count": 75,
     "metadata": {},
     "output_type": "execute_result"
    }
   ],
   "source": [
    "p.explained_variance_ratio_"
   ]
  },
  {
   "cell_type": "code",
   "execution_count": 77,
   "metadata": {},
   "outputs": [
    {
     "data": {
      "text/plain": [
       "[<matplotlib.lines.Line2D at 0x15bcad400>]"
      ]
     },
     "execution_count": 77,
     "metadata": {},
     "output_type": "execute_result"
    },
    {
     "data": {
      "image/png": "[encoded data removed]",
      "text/plain": [
       "<Figure size 460.8x403.2 with 1 Axes>"
      ]
     },
     "metadata": {},
     "output_type": "display_data"
    }
   ],
   "source": [
    "plt.plot(np.arange(3), p.components_[0])"
   ]
  },
  {
   "cell_type": "code",
   "execution_count": 78,
   "metadata": {},
   "outputs": [
    {
     "data": {
      "text/plain": [
       "array([0.29255833, 0.39744666, 0.86973891])"
      ]
     },
     "execution_count": 78,
     "metadata": {},
     "output_type": "execute_result"
    }
   ],
   "source": [
    "p.components_[0]"
   ]
  },
  {
   "cell_type": "code",
   "execution_count": 83,
   "metadata": {},
   "outputs": [
    {
     "data": {
      "text/plain": [
       "(529, 1)"
      ]
     },
     "execution_count": 83,
     "metadata": {},
     "output_type": "execute_result"
    }
   ],
   "source": [
    "p.shape"
   ]
  },
  {
   "cell_type": "code",
   "execution_count": 84,
   "metadata": {},
   "outputs": [
    {
     "data": {
      "text/plain": [
       "[<matplotlib.lines.Line2D at 0x15bd16400>]"
      ]
     },
     "execution_count": 84,
     "metadata": {},
     "output_type": "execute_result"
    },
    {
     "data": {
      "image/png": "[encoded data removed]",
      "text/plain": [
       "<Figure size 460.8x403.2 with 1 Axes>"
      ]
     },
     "metadata": {},
     "output_type": "display_data"
    }
   ],
   "source": [
    "plt.plot(np.arange(529), p)"
   ]
  },
  {
   "cell_type": "code",
   "execution_count": null,
   "metadata": {},
   "outputs": [],
   "source": []
  }
 ],
 "metadata": {
  "kernelspec": {
   "display_name": "Python 3",
   "language": "python",
   "name": "python3"
  },
  "language_info": {
   "codemirror_mode": {
    "name": "ipython",
    "version": 3
   },
   "file_extension": ".py",
   "mimetype": "text/x-python",
   "name": "python",
   "nbconvert_exporter": "python",
   "pygments_lexer": "ipython3",
   "version": "3.6.11"
  }
 },
 "nbformat": 4,
 "nbformat_minor": 4
}
