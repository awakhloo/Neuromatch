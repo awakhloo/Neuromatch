{
 "cells": [
  {
   "cell_type": "code",
   "execution_count": 1,
   "metadata": {},
   "outputs": [],
   "source": [
    "import numpy as np\n",
    "import pandas as pd \n",
    "import matplotlib.pyplot as plt\n",
    "from sklearn.decomposition import PCA\n",
    "from jupyterthemes import jtplot ; jtplot.style()\n",
    "from glob import glob\n",
    "from os import chdir \n",
    "path = '/Users/Alby/Desktop/NEUROMATCH/load'\n",
    "chdir(path)"
   ]
  },
  {
   "cell_type": "code",
   "execution_count": 42,
   "metadata": {},
   "outputs": [],
   "source": [
    "def processer(folders, truncate = None, return_stim = False) : \n",
    "    neural_df = pd.DataFrame(columns = ['spike_t', 'area', 'maus', 'stim_t'])\n",
    "    for mouse, folder in enumerate(folders) : \n",
    "        spk = np.load(f'{folder}/spikes.times.npy', allow_pickle = True)\n",
    "        spk = spk.reshape((spk.shape[0], ))\n",
    "        if truncate != None : spk = spk[spk <= truncate]\n",
    "            \n",
    "        \n",
    "        neurons = np.load(f'{folder}/spikes.clusters.npy', allow_pickle = True)\n",
    "        neurons = neurons.reshape((neurons.shape[0], )) #array with neuron labels for each spike time\n",
    "        if truncate != None : neurons = neurons[:spk.shape[0]] #cut to relevant subset\n",
    "\n",
    "        loc = pd.read_csv(f'{folder}/channels.brainLocation.tsv', delim_whitespace = True)\n",
    "        loc = loc['allen_ontology'].values #location of the ith channel\n",
    "\n",
    "        channel = np.load(f'{folder}/clusters.peakChannel.npy', allow_pickle = True)\n",
    "        channel = channel.reshape(channel.shape[0], ).astype('int') #channel of the ith cluster\n",
    "        #IDs mapping cluster - > channel. this is a clusterx1 array with each entry containing the channel ID of the ith cluster \n",
    "        print(f'Mapping neurons from {folder} to channels ... ')\n",
    "        cluster_channel = [channel[cluster] for cluster in neurons] #generate an array containing the channel for each neuron\n",
    "        #yields a list the same size as neurons with entries corresponding to the channel of that cluster\n",
    "        print('Mapping channels to brain areas ...')\n",
    "        brain_area = [loc[i] for i in cluster_channel] \n",
    "        #pull brain area \n",
    "        neural_subj_df = pd.DataFrame({'spike_t' : spk, 'neuron' : neurons, 'maus' : mouse, \n",
    "                                       'area' : brain_area}, index = np.arange(spk.shape[0]))\n",
    "        neural_subj_df['maus'] = mouse\n",
    "        neural_df = neural_df.append(neural_subj_df, ignore_index = True)\n",
    "        \n",
    "    if return_stim == True : \n",
    "        all_subj_df = pd.DataFrame(columns = ['cl', 'cr', 'stimtime', 'reward', 'response_type',\n",
    "                                                 'rt'])\n",
    "        print('''Getting behavioral data ...''')\n",
    "        for i, folder in enumerate(folders) : \n",
    "            '''Grab all stimulus vectors. For the time paramaeters, we can use truncate to slice out\n",
    "            the relevant indices. The shapes of these truncated versions can then be used to reshape\n",
    "            categorical variables like contrast and reward type.'''\n",
    "            rew_time = np.load(f'{folder}/trials.feedback_times.npy', allow_pickle = True)\n",
    "            rew_time = rew_time.reshape(rew_time.shape[0], )\n",
    "            #print(rew_time.shape)\n",
    "            rew_time = rew_time[rew_time < truncate]\n",
    "            #print(rew_time.shape)\n",
    "            rew_type = np.load(f'{folder}/trials.feedbackType.npy', allow_pickle = True)\n",
    "            rew_type = rew_type.reshape(rew_type.shape[0], )\n",
    "            rew_type = rew_type[:rew_time.shape[0]]\n",
    "                \n",
    "            response_t =  np.load(f'{folder}/trials.response_times.npy', allow_pickle = True)\n",
    "            response_t = response_t.reshape(response_t.shape[0], )\n",
    "            response_t = response_t[response_t < truncate]\n",
    "            response_type = np.load(f'{folder}/trials.response_choice.npy', allow_pickle = True)\n",
    "            response_type = response_type.reshape(response_type.shape[0], )\n",
    "            response_type = response_type[:response_t.shape[0]]\n",
    "            \n",
    "            stim = np.load(f'{folder}/trials.visualStim_times.npy', allow_pickle = True)\n",
    "            stim = stim[stim < truncate]\n",
    "            if stim.shape[0] == response_t.shape[0] + 1 : stim = stim[:-1]\n",
    "            cl = np.load(f'{folder}/trials.visualStim_contrastLeft.npy', allow_pickle = True)\n",
    "            cl = cl.reshape(cl.shape[0], )\n",
    "            cl = cl[:stim.shape[0]]\n",
    "            cr = np.load(f'{folder}/trials.visualStim_contrastRight.npy', allow_pickle = True)\n",
    "            cr = cr.reshape(cr.shape[0], )\n",
    "            cr = cr[:stim.shape[0]]\n",
    "            \n",
    "            #print(response_t.shape, response_type.shape, rew_time.shape, rew_type.shape,\n",
    "                 #cl.shape, cr.shape, stim.shape)\n",
    "            subj_df = pd.DataFrame({'cl' : cl, 'cr' : cr, 'stimtime' : stim, 'reward' : rew_type,\n",
    "                            'response_type' : response_type, 'rt' : response_t})\n",
    "            subj_df['maus'] = i\n",
    "            all_subj_df = all_subj_df.append(subj_df, ignore_index = True)\n",
    "        print('''~~~ OOOoOOOOooOoOOOOOOOOOOoooOooOOOOOOo ~~~''')\n",
    "        return neural_df, all_subj_df\n",
    "            \n",
    "    else: return neural_df"
   ]
  },
  {
   "cell_type": "code",
   "execution_count": 43,
   "metadata": {},
   "outputs": [
    {
     "name": "stdout",
     "output_type": "stream",
     "text": [
      "Mapping neurons from Cori_2016-12-14 to channels ... \n",
      "Mapping channels to brain areas ...\n",
      "Mapping neurons from Richards_2017-10-29 to channels ... \n",
      "Mapping channels to brain areas ...\n",
      "Mapping neurons from Forssmann_2017-11-01 to channels ... \n",
      "Mapping channels to brain areas ...\n",
      "Mapping neurons from Lederberg_2017-12-05 to channels ... \n",
      "Mapping channels to brain areas ...\n",
      "Getting behavioral data ...\n",
      "~~~ OOOoOOOOooOoOOOOOOOOOOoooOooOOOOOOo ~~~\n"
     ]
    },
    {
     "data": {
      "text/html": [
       "<div>\n",
       "<style scoped>\n",
       "    .dataframe tbody tr th:only-of-type {\n",
       "        vertical-align: middle;\n",
       "    }\n",
       "\n",
       "    .dataframe tbody tr th {\n",
       "        vertical-align: top;\n",
       "    }\n",
       "\n",
       "    .dataframe thead th {\n",
       "        text-align: right;\n",
       "    }\n",
       "</style>\n",
       "<table border=\"1\" class=\"dataframe\">\n",
       "  <thead>\n",
       "    <tr style=\"text-align: right;\">\n",
       "      <th></th>\n",
       "      <th>cl</th>\n",
       "      <th>cr</th>\n",
       "      <th>stimtime</th>\n",
       "      <th>reward</th>\n",
       "      <th>response_type</th>\n",
       "      <th>rt</th>\n",
       "      <th>maus</th>\n",
       "    </tr>\n",
       "  </thead>\n",
       "  <tbody>\n",
       "    <tr>\n",
       "      <th>0</th>\n",
       "      <td>1.0</td>\n",
       "      <td>0.0</td>\n",
       "      <td>65.269408</td>\n",
       "      <td>1.0</td>\n",
       "      <td>1.0</td>\n",
       "      <td>66.419612</td>\n",
       "      <td>0.0</td>\n",
       "    </tr>\n",
       "    <tr>\n",
       "      <th>1</th>\n",
       "      <td>0.0</td>\n",
       "      <td>0.5</td>\n",
       "      <td>71.202703</td>\n",
       "      <td>1.0</td>\n",
       "      <td>-1.0</td>\n",
       "      <td>72.602206</td>\n",
       "      <td>0.0</td>\n",
       "    </tr>\n",
       "    <tr>\n",
       "      <th>2</th>\n",
       "      <td>1.0</td>\n",
       "      <td>0.5</td>\n",
       "      <td>76.052380</td>\n",
       "      <td>1.0</td>\n",
       "      <td>1.0</td>\n",
       "      <td>77.001671</td>\n",
       "      <td>0.0</td>\n",
       "    </tr>\n",
       "    <tr>\n",
       "      <th>3</th>\n",
       "      <td>0.0</td>\n",
       "      <td>0.0</td>\n",
       "      <td>81.235263</td>\n",
       "      <td>1.0</td>\n",
       "      <td>0.0</td>\n",
       "      <td>83.502065</td>\n",
       "      <td>0.0</td>\n",
       "    </tr>\n",
       "    <tr>\n",
       "      <th>4</th>\n",
       "      <td>0.5</td>\n",
       "      <td>1.0</td>\n",
       "      <td>86.800952</td>\n",
       "      <td>-1.0</td>\n",
       "      <td>1.0</td>\n",
       "      <td>87.617727</td>\n",
       "      <td>0.0</td>\n",
       "    </tr>\n",
       "  </tbody>\n",
       "</table>\n",
       "</div>"
      ],
      "text/plain": [
       "    cl   cr   stimtime  reward  response_type         rt  maus\n",
       "0  1.0  0.0  65.269408     1.0            1.0  66.419612   0.0\n",
       "1  0.0  0.5  71.202703     1.0           -1.0  72.602206   0.0\n",
       "2  1.0  0.5  76.052380     1.0            1.0  77.001671   0.0\n",
       "3  0.0  0.0  81.235263     1.0            0.0  83.502065   0.0\n",
       "4  0.5  1.0  86.800952    -1.0            1.0  87.617727   0.0"
      ]
     },
     "execution_count": 43,
     "metadata": {},
     "output_type": "execute_result"
    }
   ],
   "source": [
    "folders = glob('*')\n",
    "neurons, process = processer(folders, truncate = 500, return_stim = True)\n",
    "process.head()"
   ]
  },
  {
   "cell_type": "code",
   "execution_count": 18,
   "metadata": {},
   "outputs": [
    {
     "name": "stdout",
     "output_type": "stream",
     "text": [
      "(249, 1)\n"
     ]
    },
    {
     "data": {
      "text/plain": [
       "(98,)"
      ]
     },
     "execution_count": 18,
     "metadata": {},
     "output_type": "execute_result"
    }
   ],
   "source": [
    "arr = np.load('/Users/Alby/Desktop/NEUROMATCH/load/Forssmann_2017-11-01/trials.feedback_times.npy', allow_pickle = True)\n",
    "print(arr.shape)\n",
    "arr[arr < 1000].shape"
   ]
  },
  {
   "cell_type": "code",
   "execution_count": 19,
   "metadata": {},
   "outputs": [
    {
     "name": "stdout",
     "output_type": "stream",
     "text": [
      "(249, 1)\n"
     ]
    },
    {
     "data": {
      "text/plain": [
       "(99,)"
      ]
     },
     "execution_count": 19,
     "metadata": {},
     "output_type": "execute_result"
    }
   ],
   "source": [
    "stim = np.load('/Users/Alby/Desktop/NEUROMATCH/load/Forssmann_2017-11-01/trials.visualStim_times.npy', allow_pickle = True)\n",
    "print(stim.shape) \n",
    "stim[stim < 500].shape"
   ]
  },
  {
   "cell_type": "code",
   "execution_count": 22,
   "metadata": {},
   "outputs": [
    {
     "name": "stdout",
     "output_type": "stream",
     "text": [
      "(214, 1)\n"
     ]
    },
    {
     "data": {
      "text/plain": [
       "(83,)"
      ]
     },
     "execution_count": 22,
     "metadata": {},
     "output_type": "execute_result"
    }
   ],
   "source": [
    "arr = np.load('/Users/Alby/Desktop/NEUROMATCH/load/Cori_2016-12-14/trials.feedback_times.npy', allow_pickle = True)\n",
    "print(arr.shape)\n",
    "arr[arr < 500].shape"
   ]
  },
  {
   "cell_type": "code",
   "execution_count": 23,
   "metadata": {},
   "outputs": [
    {
     "name": "stdout",
     "output_type": "stream",
     "text": [
      "(214, 1)\n"
     ]
    },
    {
     "data": {
      "text/plain": [
       "(83,)"
      ]
     },
     "execution_count": 23,
     "metadata": {},
     "output_type": "execute_result"
    }
   ],
   "source": [
    "stim = np.load('/Users/Alby/Desktop/NEUROMATCH/load/Cori_2016-12-14/trials.visualStim_times.npy', allow_pickle = True)\n",
    "print(stim.shape) \n",
    "stim[stim < 500].shape"
   ]
  },
  {
   "cell_type": "code",
   "execution_count": null,
   "metadata": {},
   "outputs": [],
   "source": []
  }
 ],
 "metadata": {
  "kernelspec": {
   "display_name": "Python 3",
   "language": "python",
   "name": "python3"
  },
  "language_info": {
   "codemirror_mode": {
    "name": "ipython",
    "version": 3
   },
   "file_extension": ".py",
   "mimetype": "text/x-python",
   "name": "python",
   "nbconvert_exporter": "python",
   "pygments_lexer": "ipython3",
   "version": "3.7.6"
  }
 },
 "nbformat": 4,
 "nbformat_minor": 4
}
