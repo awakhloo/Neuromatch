{
 "cells": [
  {
   "cell_type": "code",
   "execution_count": 2,
   "metadata": {},
   "outputs": [],
   "source": [
    "import numpy as np\n",
    "import pandas as pd\n",
    "import matplotlib.pyplot as plt\n",
    "from jupyterthemes import jtplot ; jtplot.style()\n",
    "import hddm\n",
    "from os import chdir ; chdir('/Users/albertwakhloo/Desktop/theoretical neuroscience/neuromatch/steinmetz full/five mice')"
   ]
  },
  {
   "cell_type": "code",
   "execution_count": 50,
   "metadata": {},
   "outputs": [
    {
     "data": {
      "text/html": [
       "<div>\n",
       "<style scoped>\n",
       "    .dataframe tbody tr th:only-of-type {\n",
       "        vertical-align: middle;\n",
       "    }\n",
       "\n",
       "    .dataframe tbody tr th {\n",
       "        vertical-align: top;\n",
       "    }\n",
       "\n",
       "    .dataframe thead th {\n",
       "        text-align: right;\n",
       "    }\n",
       "</style>\n",
       "<table border=\"1\" class=\"dataframe\">\n",
       "  <thead>\n",
       "    <tr style=\"text-align: right;\">\n",
       "      <th></th>\n",
       "      <th>Unnamed: 0</th>\n",
       "      <th>spike_t</th>\n",
       "      <th>area</th>\n",
       "      <th>maus</th>\n",
       "      <th>stim_t</th>\n",
       "      <th>neuron</th>\n",
       "    </tr>\n",
       "  </thead>\n",
       "  <tbody>\n",
       "    <tr>\n",
       "      <th>0</th>\n",
       "      <td>0</td>\n",
       "      <td>0.003633</td>\n",
       "      <td>GPe</td>\n",
       "      <td>0</td>\n",
       "      <td>NaN</td>\n",
       "      <td>145.0</td>\n",
       "    </tr>\n",
       "    <tr>\n",
       "      <th>1</th>\n",
       "      <td>1</td>\n",
       "      <td>0.004967</td>\n",
       "      <td>BLA</td>\n",
       "      <td>0</td>\n",
       "      <td>NaN</td>\n",
       "      <td>245.0</td>\n",
       "    </tr>\n",
       "    <tr>\n",
       "      <th>2</th>\n",
       "      <td>2</td>\n",
       "      <td>0.005767</td>\n",
       "      <td>GPe</td>\n",
       "      <td>0</td>\n",
       "      <td>NaN</td>\n",
       "      <td>318.0</td>\n",
       "    </tr>\n",
       "    <tr>\n",
       "      <th>3</th>\n",
       "      <td>3</td>\n",
       "      <td>0.005900</td>\n",
       "      <td>BLA</td>\n",
       "      <td>0</td>\n",
       "      <td>NaN</td>\n",
       "      <td>537.0</td>\n",
       "    </tr>\n",
       "    <tr>\n",
       "      <th>4</th>\n",
       "      <td>4</td>\n",
       "      <td>0.006167</td>\n",
       "      <td>BLA</td>\n",
       "      <td>0</td>\n",
       "      <td>NaN</td>\n",
       "      <td>196.0</td>\n",
       "    </tr>\n",
       "  </tbody>\n",
       "</table>\n",
       "</div>"
      ],
      "text/plain": [
       "   Unnamed: 0   spike_t area  maus  stim_t  neuron\n",
       "0           0  0.003633  GPe     0     NaN   145.0\n",
       "1           1  0.004967  BLA     0     NaN   245.0\n",
       "2           2  0.005767  GPe     0     NaN   318.0\n",
       "3           3  0.005900  BLA     0     NaN   537.0\n",
       "4           4  0.006167  BLA     0     NaN   196.0"
      ]
     },
     "execution_count": 50,
     "metadata": {},
     "output_type": "execute_result"
    }
   ],
   "source": [
    "#neur = pd.read_csv('spikes.csv')\n",
    "labelled_set = pd.read_csv('time_stamp_neurons_labels.csv')\n",
    "stim = pd.read_csv('stimulus_series.csv')\n",
    "labelled_set.head()"
   ]
  },
  {
   "cell_type": "code",
   "execution_count": 55,
   "metadata": {},
   "outputs": [
    {
     "data": {
      "text/plain": [
       "997.9869514423416"
      ]
     },
     "execution_count": 55,
     "metadata": {},
     "output_type": "execute_result"
    }
   ],
   "source": [
    "stim.stimtime.max()"
   ]
  },
  {
   "cell_type": "code",
   "execution_count": 175,
   "metadata": {},
   "outputs": [],
   "source": [
    "def extract_trial_stim_avg(zone, stimulus_df, relevant_n, bins = .20) : \n",
    "    ''' \n",
    "    zone : process df containing maus, area, neuron, and spike time \n",
    "    relevant : neurons to slice out\n",
    "    stimulus_df : mr clean df containing stim times \n",
    "    -------------------\n",
    "    returns : df containing spike averages for a given time following stimulus onset'''\n",
    "    full_df = pd.DataFrame()\n",
    "    for mouse in zone.maus.unique() : \n",
    "        print(f'Generating mouse {mouse} spike rate data ...')\n",
    "        mouse_df = pd.DataFrame()\n",
    "        relevant_n_slice = zone.loc[(zone.maus == mouse) & \n",
    "                                    (zone.area.isin(relevant_n))] #grab any relevant neuron subset\n",
    "        for area in relevant_n_slice.area.unique() :\n",
    "            # grab a slice of the data containing a particular relevant area \n",
    "            area_subset = relevant_n_slice[relevant_n_slice.area == area]\n",
    "            area_spike_set = np.array([])    \n",
    "            for stim_time in stim.loc[stim.subj_idx == mouse].stimtime :\n",
    "                #calculate trial by trial post stimulus spiking avg \n",
    "                n_spikes = len(\n",
    "                    area_subset[(area_subset.spike_t <= stim_time + bins) &\n",
    "                               (stim_time <= area_subset.spike_t)].spike_t.values)\n",
    "                trial_avg = n_spikes / bins  \n",
    "                area_spike_set = np.append(area_spike_set, trial_avg)\n",
    "            mouse_df[area] = area_spike_set\n",
    "            #print(area_spike_set.shape)\n",
    "        mouse_df['maus'] = mouse \n",
    "        print(mouse)\n",
    "        print(mouse_df.shape)\n",
    "        full_df = full_df.append(mouse_df, ignore_index = True)\n",
    "   # print('~~~ young success ~~~~')\n",
    "    return full_df "
   ]
  },
  {
   "cell_type": "code",
   "execution_count": 176,
   "metadata": {},
   "outputs": [
    {
     "name": "stdout",
     "output_type": "stream",
     "text": [
      "Generating mouse 0 spike rate data ...\n",
      "0\n",
      "(140, 3)\n",
      "Generating mouse 1 spike rate data ...\n",
      "1\n",
      "(118, 4)\n",
      "Generating mouse 2 spike rate data ...\n",
      "2\n",
      "(153, 4)\n",
      "Generating mouse 3 spike rate data ...\n",
      "3\n",
      "(150, 3)\n",
      "Generating mouse 4 spike rate data ...\n",
      "4\n",
      "(151, 3)\n"
     ]
    }
   ],
   "source": [
    "relevant_n = ['GPe', 'LH', 'MB', 'MOp', 'MOs', 'MRN', 'TH']\n",
    "spk = extract_trial_stim_avg(labelled_set, stim, relevant_n)"
   ]
  },
  {
   "cell_type": "code",
   "execution_count": 177,
   "metadata": {},
   "outputs": [
    {
     "name": "stdout",
     "output_type": "stream",
     "text": [
      "(118, 6)\n"
     ]
    },
    {
     "data": {
      "text/plain": [
       "(118, 9)"
      ]
     },
     "execution_count": 177,
     "metadata": {},
     "output_type": "execute_result"
    }
   ],
   "source": [
    "print(spk[spk.maus == 1].shape)\n",
    "stim[stim.subj_idx == 1].shape"
   ]
  },
  {
   "cell_type": "code",
   "execution_count": 178,
   "metadata": {},
   "outputs": [
    {
     "data": {
      "text/html": [
       "<div>\n",
       "<style scoped>\n",
       "    .dataframe tbody tr th:only-of-type {\n",
       "        vertical-align: middle;\n",
       "    }\n",
       "\n",
       "    .dataframe tbody tr th {\n",
       "        vertical-align: top;\n",
       "    }\n",
       "\n",
       "    .dataframe thead th {\n",
       "        text-align: right;\n",
       "    }\n",
       "</style>\n",
       "<table border=\"1\" class=\"dataframe\">\n",
       "  <thead>\n",
       "    <tr style=\"text-align: right;\">\n",
       "      <th></th>\n",
       "      <th>GPe</th>\n",
       "      <th>MB</th>\n",
       "      <th>maus</th>\n",
       "      <th>MRN</th>\n",
       "      <th>MOs</th>\n",
       "      <th>TH</th>\n",
       "    </tr>\n",
       "  </thead>\n",
       "  <tbody>\n",
       "    <tr>\n",
       "      <th>707</th>\n",
       "      <td>NaN</td>\n",
       "      <td>500.0</td>\n",
       "      <td>4</td>\n",
       "      <td>NaN</td>\n",
       "      <td>NaN</td>\n",
       "      <td>480.0</td>\n",
       "    </tr>\n",
       "    <tr>\n",
       "      <th>708</th>\n",
       "      <td>NaN</td>\n",
       "      <td>820.0</td>\n",
       "      <td>4</td>\n",
       "      <td>NaN</td>\n",
       "      <td>NaN</td>\n",
       "      <td>1115.0</td>\n",
       "    </tr>\n",
       "    <tr>\n",
       "      <th>709</th>\n",
       "      <td>NaN</td>\n",
       "      <td>560.0</td>\n",
       "      <td>4</td>\n",
       "      <td>NaN</td>\n",
       "      <td>NaN</td>\n",
       "      <td>345.0</td>\n",
       "    </tr>\n",
       "    <tr>\n",
       "      <th>710</th>\n",
       "      <td>NaN</td>\n",
       "      <td>595.0</td>\n",
       "      <td>4</td>\n",
       "      <td>NaN</td>\n",
       "      <td>NaN</td>\n",
       "      <td>240.0</td>\n",
       "    </tr>\n",
       "    <tr>\n",
       "      <th>711</th>\n",
       "      <td>NaN</td>\n",
       "      <td>615.0</td>\n",
       "      <td>4</td>\n",
       "      <td>NaN</td>\n",
       "      <td>NaN</td>\n",
       "      <td>475.0</td>\n",
       "    </tr>\n",
       "  </tbody>\n",
       "</table>\n",
       "</div>"
      ],
      "text/plain": [
       "     GPe     MB  maus  MRN  MOs      TH\n",
       "707  NaN  500.0     4  NaN  NaN   480.0\n",
       "708  NaN  820.0     4  NaN  NaN  1115.0\n",
       "709  NaN  560.0     4  NaN  NaN   345.0\n",
       "710  NaN  595.0     4  NaN  NaN   240.0\n",
       "711  NaN  615.0     4  NaN  NaN   475.0"
      ]
     },
     "execution_count": 178,
     "metadata": {},
     "output_type": "execute_result"
    }
   ],
   "source": [
    "spk.tail()"
   ]
  },
  {
   "cell_type": "code",
   "execution_count": 179,
   "metadata": {},
   "outputs": [
    {
     "data": {
      "text/html": [
       "<div>\n",
       "<style scoped>\n",
       "    .dataframe tbody tr th:only-of-type {\n",
       "        vertical-align: middle;\n",
       "    }\n",
       "\n",
       "    .dataframe tbody tr th {\n",
       "        vertical-align: top;\n",
       "    }\n",
       "\n",
       "    .dataframe thead th {\n",
       "        text-align: right;\n",
       "    }\n",
       "</style>\n",
       "<table border=\"1\" class=\"dataframe\">\n",
       "  <thead>\n",
       "    <tr style=\"text-align: right;\">\n",
       "      <th></th>\n",
       "      <th>Unnamed: 0</th>\n",
       "      <th>rt</th>\n",
       "      <th>subj_idx</th>\n",
       "      <th>response</th>\n",
       "      <th>response_type</th>\n",
       "      <th>split_by</th>\n",
       "      <th>feedback</th>\n",
       "      <th>q_init</th>\n",
       "      <th>stimtime</th>\n",
       "      <th>striate</th>\n",
       "    </tr>\n",
       "  </thead>\n",
       "  <tbody>\n",
       "    <tr>\n",
       "      <th>0</th>\n",
       "      <td>0</td>\n",
       "      <td>0.758448</td>\n",
       "      <td>0.0</td>\n",
       "      <td>1</td>\n",
       "      <td>1.0</td>\n",
       "      <td>1</td>\n",
       "      <td>1.0</td>\n",
       "      <td>0.7</td>\n",
       "      <td>38.905120</td>\n",
       "      <td>1340.0</td>\n",
       "    </tr>\n",
       "    <tr>\n",
       "      <th>1</th>\n",
       "      <td>5</td>\n",
       "      <td>0.606752</td>\n",
       "      <td>0.0</td>\n",
       "      <td>0</td>\n",
       "      <td>-1.0</td>\n",
       "      <td>0</td>\n",
       "      <td>1.0</td>\n",
       "      <td>0.7</td>\n",
       "      <td>64.555633</td>\n",
       "      <td>1275.0</td>\n",
       "    </tr>\n",
       "    <tr>\n",
       "      <th>2</th>\n",
       "      <td>8</td>\n",
       "      <td>1.094184</td>\n",
       "      <td>0.0</td>\n",
       "      <td>1</td>\n",
       "      <td>1.0</td>\n",
       "      <td>1</td>\n",
       "      <td>1.0</td>\n",
       "      <td>0.7</td>\n",
       "      <td>76.900798</td>\n",
       "      <td>1165.0</td>\n",
       "    </tr>\n",
       "    <tr>\n",
       "      <th>3</th>\n",
       "      <td>12</td>\n",
       "      <td>0.660577</td>\n",
       "      <td>0.0</td>\n",
       "      <td>0</td>\n",
       "      <td>-1.0</td>\n",
       "      <td>0</td>\n",
       "      <td>1.0</td>\n",
       "      <td>0.7</td>\n",
       "      <td>95.416796</td>\n",
       "      <td>1255.0</td>\n",
       "    </tr>\n",
       "    <tr>\n",
       "      <th>4</th>\n",
       "      <td>13</td>\n",
       "      <td>0.804386</td>\n",
       "      <td>0.0</td>\n",
       "      <td>0</td>\n",
       "      <td>-1.0</td>\n",
       "      <td>0</td>\n",
       "      <td>1.0</td>\n",
       "      <td>0.7</td>\n",
       "      <td>98.989397</td>\n",
       "      <td>1295.0</td>\n",
       "    </tr>\n",
       "  </tbody>\n",
       "</table>\n",
       "</div>"
      ],
      "text/plain": [
       "   Unnamed: 0        rt  subj_idx  response  response_type  split_by  \\\n",
       "0           0  0.758448       0.0         1            1.0         1   \n",
       "1           5  0.606752       0.0         0           -1.0         0   \n",
       "2           8  1.094184       0.0         1            1.0         1   \n",
       "3          12  0.660577       0.0         0           -1.0         0   \n",
       "4          13  0.804386       0.0         0           -1.0         0   \n",
       "\n",
       "   feedback  q_init   stimtime  striate  \n",
       "0       1.0     0.7  38.905120   1340.0  \n",
       "1       1.0     0.7  64.555633   1275.0  \n",
       "2       1.0     0.7  76.900798   1165.0  \n",
       "3       1.0     0.7  95.416796   1255.0  \n",
       "4       1.0     0.7  98.989397   1295.0  "
      ]
     },
     "execution_count": 179,
     "metadata": {},
     "output_type": "execute_result"
    }
   ],
   "source": [
    "maus_0 = stim[stim.subj_idx == 0.].copy()\n",
    "maus_0['striate'] = spk[spk.maus == 0].GPe.values\n",
    "maus_0.head()"
   ]
  },
  {
   "cell_type": "code",
   "execution_count": null,
   "metadata": {},
   "outputs": [
    {
     "name": "stdout",
     "output_type": "stream",
     "text": [
      "Adding these covariates:\n",
      "['v_Intercept', 'v_striate']\n",
      "-45.90793778549735\n",
      "-45.907465805508096\n",
      " [-----------------66%-----             ] 1996 of 3000 complete in 570.8 sec"
     ]
    }
   ],
   "source": [
    "m = hddm.HDDMrlRegressor(maus_0, 'v ~ striate', include = 'alpha')\n",
    "m.find_starting_values()\n",
    "m.sample(3000, burn = 1500)"
   ]
  },
  {
   "cell_type": "code",
   "execution_count": null,
   "metadata": {},
   "outputs": [],
   "source": [
    "def plot_posterior(param, trace, bins = 50) : \n",
    "    _, ax = plt.subplots(1, 2, figsize = (20, 7))\n",
    "    x = np.arange(len(trace))\n",
    "    ax[0].hist(trace[param], bins = bins)\n",
    "    ax[1].plot(x, trace[param])\n",
    "trace = m.get_group_traces()"
   ]
  },
  {
   "cell_type": "code",
   "execution_count": null,
   "metadata": {},
   "outputs": [],
   "source": [
    "plot_posterior('v_Intercept', trace)"
   ]
  },
  {
   "cell_type": "code",
   "execution_count": null,
   "metadata": {},
   "outputs": [],
   "source": [
    "plot_posterior('v_striate', trace)"
   ]
  },
  {
   "cell_type": "code",
   "execution_count": null,
   "metadata": {},
   "outputs": [],
   "source": [
    "plot_posterior('a', trace)"
   ]
  },
  {
   "cell_type": "code",
   "execution_count": null,
   "metadata": {},
   "outputs": [],
   "source": [
    "plot_posterior('t', trace)"
   ]
  },
  {
   "cell_type": "code",
   "execution_count": null,
   "metadata": {},
   "outputs": [],
   "source": [
    "m.get_group_nodes()"
   ]
  }
 ],
 "metadata": {
  "kernelspec": {
   "display_name": "Python 3",
   "language": "python",
   "name": "python3"
  },
  "language_info": {
   "codemirror_mode": {
    "name": "ipython",
    "version": 3
   },
   "file_extension": ".py",
   "mimetype": "text/x-python",
   "name": "python",
   "nbconvert_exporter": "python",
   "pygments_lexer": "ipython3",
   "version": "3.6.10"
  }
 },
 "nbformat": 4,
 "nbformat_minor": 4
}
